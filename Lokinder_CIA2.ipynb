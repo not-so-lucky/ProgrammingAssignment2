{
  "nbformat": 4,
  "nbformat_minor": 0,
  "metadata": {
    "colab": {
      "name": "Kamal_CIA2.ipynb",
      "provenance": [],
      "include_colab_link": true
    },
    "kernelspec": {
      "name": "python3",
      "display_name": "Python 3"
    },
    "language_info": {
      "name": "python"
    }
  },
  "cells": [
    {
      "cell_type": "markdown",
      "metadata": {
        "id": "view-in-github",
        "colab_type": "text"
      },
      "source": [
        "<a href=\"https://colab.research.google.com/github/not-so-lucky/ProgrammingAssignment2/blob/master/Lokinder_CIA2.ipynb\" target=\"_parent\"><img src=\"https://colab.research.google.com/assets/colab-badge.svg\" alt=\"Open In Colab\"/></a>"
      ]
    },
    {
      "cell_type": "markdown",
      "metadata": {
        "id": "zA0Z9kpCKEBd"
      },
      "source": [
        "Name - Kamal Singh\n",
        "\n",
        "Rollno - 2020MSBDA013\n"
      ]
    },
    {
      "cell_type": "code",
      "metadata": {
        "id": "nucUAIadL6yh"
      },
      "source": [
        "import pandas as pd\n",
        "from sklearn import linear_model\n",
        "import matplotlib.pyplot as plt\n",
        "import numpy as np\n",
        "import seaborn as sns\n"
      ],
      "execution_count": null,
      "outputs": []
    },
    {
      "cell_type": "code",
      "metadata": {
        "colab": {
          "base_uri": "https://localhost:8080/",
          "height": 417
        },
        "id": "V56MZZrgM3WN",
        "outputId": "0b42d730-ba60-439b-e44c-97db668b3b78"
      },
      "source": [
        "df = pd.read_csv (r'tatamotor.csv')\n",
        "df"
      ],
      "execution_count": null,
      "outputs": [
        {
          "output_type": "execute_result",
          "data": {
            "text/html": [
              "<div>\n",
              "<style scoped>\n",
              "    .dataframe tbody tr th:only-of-type {\n",
              "        vertical-align: middle;\n",
              "    }\n",
              "\n",
              "    .dataframe tbody tr th {\n",
              "        vertical-align: top;\n",
              "    }\n",
              "\n",
              "    .dataframe thead th {\n",
              "        text-align: right;\n",
              "    }\n",
              "</style>\n",
              "<table border=\"1\" class=\"dataframe\">\n",
              "  <thead>\n",
              "    <tr style=\"text-align: right;\">\n",
              "      <th></th>\n",
              "      <th>Date</th>\n",
              "      <th>Open</th>\n",
              "      <th>High</th>\n",
              "      <th>Low</th>\n",
              "      <th>Close</th>\n",
              "      <th>AdjClose</th>\n",
              "      <th>Volume</th>\n",
              "    </tr>\n",
              "  </thead>\n",
              "  <tbody>\n",
              "    <tr>\n",
              "      <th>0</th>\n",
              "      <td>18-07-2016</td>\n",
              "      <td>495.000000</td>\n",
              "      <td>505.000000</td>\n",
              "      <td>490.000000</td>\n",
              "      <td>492.649994</td>\n",
              "      <td>492.649994</td>\n",
              "      <td>7463954</td>\n",
              "    </tr>\n",
              "    <tr>\n",
              "      <th>1</th>\n",
              "      <td>19-07-2016</td>\n",
              "      <td>493.899994</td>\n",
              "      <td>503.500000</td>\n",
              "      <td>493.450012</td>\n",
              "      <td>499.250000</td>\n",
              "      <td>499.250000</td>\n",
              "      <td>7665519</td>\n",
              "    </tr>\n",
              "    <tr>\n",
              "      <th>2</th>\n",
              "      <td>20-07-2016</td>\n",
              "      <td>496.299988</td>\n",
              "      <td>502.450012</td>\n",
              "      <td>492.450012</td>\n",
              "      <td>493.899994</td>\n",
              "      <td>493.899994</td>\n",
              "      <td>5697901</td>\n",
              "    </tr>\n",
              "    <tr>\n",
              "      <th>3</th>\n",
              "      <td>21-07-2016</td>\n",
              "      <td>498.450012</td>\n",
              "      <td>500.000000</td>\n",
              "      <td>489.700012</td>\n",
              "      <td>491.049988</td>\n",
              "      <td>491.049988</td>\n",
              "      <td>3658371</td>\n",
              "    </tr>\n",
              "    <tr>\n",
              "      <th>4</th>\n",
              "      <td>22-07-2016</td>\n",
              "      <td>494.450012</td>\n",
              "      <td>508.450012</td>\n",
              "      <td>493.500000</td>\n",
              "      <td>507.200012</td>\n",
              "      <td>507.200012</td>\n",
              "      <td>5588143</td>\n",
              "    </tr>\n",
              "    <tr>\n",
              "      <th>...</th>\n",
              "      <td>...</td>\n",
              "      <td>...</td>\n",
              "      <td>...</td>\n",
              "      <td>...</td>\n",
              "      <td>...</td>\n",
              "      <td>...</td>\n",
              "      <td>...</td>\n",
              "    </tr>\n",
              "    <tr>\n",
              "      <th>1219</th>\n",
              "      <td>29-06-2021</td>\n",
              "      <td>342.649994</td>\n",
              "      <td>346.500000</td>\n",
              "      <td>339.600006</td>\n",
              "      <td>341.549988</td>\n",
              "      <td>341.549988</td>\n",
              "      <td>22462297</td>\n",
              "    </tr>\n",
              "    <tr>\n",
              "      <th>1220</th>\n",
              "      <td>30-06-2021</td>\n",
              "      <td>342.000000</td>\n",
              "      <td>345.350006</td>\n",
              "      <td>338.850006</td>\n",
              "      <td>339.600006</td>\n",
              "      <td>339.600006</td>\n",
              "      <td>18277841</td>\n",
              "    </tr>\n",
              "    <tr>\n",
              "      <th>1221</th>\n",
              "      <td>01-07-2021</td>\n",
              "      <td>341.500000</td>\n",
              "      <td>347.399994</td>\n",
              "      <td>341.200012</td>\n",
              "      <td>344.250000</td>\n",
              "      <td>344.250000</td>\n",
              "      <td>27944816</td>\n",
              "    </tr>\n",
              "    <tr>\n",
              "      <th>1222</th>\n",
              "      <td>02-07-2021</td>\n",
              "      <td>345.299988</td>\n",
              "      <td>345.549988</td>\n",
              "      <td>340.500000</td>\n",
              "      <td>344.899994</td>\n",
              "      <td>344.899994</td>\n",
              "      <td>18304387</td>\n",
              "    </tr>\n",
              "    <tr>\n",
              "      <th>1223</th>\n",
              "      <td>05-07-2021</td>\n",
              "      <td>347.049988</td>\n",
              "      <td>350.100006</td>\n",
              "      <td>344.000000</td>\n",
              "      <td>346.100006</td>\n",
              "      <td>346.100006</td>\n",
              "      <td>18399524</td>\n",
              "    </tr>\n",
              "  </tbody>\n",
              "</table>\n",
              "<p>1224 rows × 7 columns</p>\n",
              "</div>"
            ],
            "text/plain": [
              "            Date        Open        High  ...       Close    AdjClose    Volume\n",
              "0     18-07-2016  495.000000  505.000000  ...  492.649994  492.649994   7463954\n",
              "1     19-07-2016  493.899994  503.500000  ...  499.250000  499.250000   7665519\n",
              "2     20-07-2016  496.299988  502.450012  ...  493.899994  493.899994   5697901\n",
              "3     21-07-2016  498.450012  500.000000  ...  491.049988  491.049988   3658371\n",
              "4     22-07-2016  494.450012  508.450012  ...  507.200012  507.200012   5588143\n",
              "...          ...         ...         ...  ...         ...         ...       ...\n",
              "1219  29-06-2021  342.649994  346.500000  ...  341.549988  341.549988  22462297\n",
              "1220  30-06-2021  342.000000  345.350006  ...  339.600006  339.600006  18277841\n",
              "1221  01-07-2021  341.500000  347.399994  ...  344.250000  344.250000  27944816\n",
              "1222  02-07-2021  345.299988  345.549988  ...  344.899994  344.899994  18304387\n",
              "1223  05-07-2021  347.049988  350.100006  ...  346.100006  346.100006  18399524\n",
              "\n",
              "[1224 rows x 7 columns]"
            ]
          },
          "metadata": {},
          "execution_count": 80
        }
      ]
    },
    {
      "cell_type": "code",
      "metadata": {
        "colab": {
          "base_uri": "https://localhost:8080/",
          "height": 300
        },
        "id": "c-gKfauDNi1e",
        "outputId": "115f0388-39d7-4763-9352-57d33604c0a2"
      },
      "source": [
        "plt.scatter(df['High'], df['Close'], color='red')\n",
        "plt.title('High Vs Close', fontsize=14)\n",
        "plt.xlabel('High', fontsize=14)\n",
        "plt.ylabel('Close', fontsize=14)\n",
        "plt.grid(True)\n",
        "plt.show()\n",
        "# Checking linearity"
      ],
      "execution_count": null,
      "outputs": [
        {
          "output_type": "display_data",
          "data": {
            "image/png": "[encoded data removed]",
            "text/plain": [
              "<Figure size 432x288 with 1 Axes>"
            ]
          },
          "metadata": {
            "needs_background": "light"
          }
        }
      ]
    },
    {
      "cell_type": "code",
      "metadata": {
        "colab": {
          "base_uri": "https://localhost:8080/",
          "height": 300
        },
        "id": "cF2xOloYVJ9O",
        "outputId": "b538a72d-5d50-4133-fb38-9d0dd86b03ca"
      },
      "source": [
        "plt.scatter(df['Low'], df['Close'], color='red')\n",
        "plt.title('Low Vs Close', fontsize=14)\n",
        "plt.xlabel('Low', fontsize=14)\n",
        "plt.ylabel('Close', fontsize=14)\n",
        "plt.grid(True)\n",
        "plt.show()\n",
        "# Checking linearity"
      ],
      "execution_count": null,
      "outputs": [
        {
          "output_type": "display_data",
          "data": {
            "image/png": "[encoded data removed]",
            "text/plain": [
              "<Figure size 432x288 with 1 Axes>"
            ]
          },
          "metadata": {
            "needs_background": "light"
          }
        }
      ]
    },
    {
      "cell_type": "code",
      "metadata": {
        "colab": {
          "base_uri": "https://localhost:8080/",
          "height": 300
        },
        "id": "J-vIjw__VRhV",
        "outputId": "c71a69aa-6b62-4a84-8027-0b88e6c38a55"
      },
      "source": [
        "plt.scatter(df['Open'], df['Close'], color='red')\n",
        "plt.title('Open Vs Close', fontsize=14)\n",
        "plt.xlabel('Open', fontsize=14)\n",
        "plt.ylabel('Close', fontsize=14)\n",
        "plt.grid(True)\n",
        "plt.show()\n",
        "# Checking linearity"
      ],
      "execution_count": null,
      "outputs": [
        {
          "output_type": "display_data",
          "data": {
            "image/png": "[encoded data removed]",
            "text/plain": [
              "<Figure size 432x288 with 1 Axes>"
            ]
          },
          "metadata": {
            "needs_background": "light"
          }
        }
      ]
    },
    {
      "cell_type": "code",
      "metadata": {
        "id": "bXqfCGOZcLvc"
      },
      "source": [
        "x = df[['Open', 'High', 'Low','Volume']]\n",
        "y = df['Close']"
      ],
      "execution_count": null,
      "outputs": []
    },
    {
      "cell_type": "code",
      "metadata": {
        "id": "e_edaKWuc194"
      },
      "source": [
        "from sklearn.model_selection import train_test_split \n",
        "x_train, x_test, y_train, y_test = train_test_split(x, y, test_size = 0.3, random_state = 100)"
      ],
      "execution_count": null,
      "outputs": []
    },
    {
      "cell_type": "code",
      "metadata": {
        "colab": {
          "base_uri": "https://localhost:8080/"
        },
        "id": "pUfzWJXLdTw3",
        "outputId": "7e7463db-0058-48fc-ef05-70d8c8b89ecd"
      },
      "source": [
        "from sklearn.linear_model import LinearRegression\n",
        "mlr = LinearRegression()  \n",
        "mlr.fit(x_train, y_train)"
      ],
      "execution_count": null,
      "outputs": [
        {
          "output_type": "execute_result",
          "data": {
            "text/plain": [
              "LinearRegression(copy_X=True, fit_intercept=True, n_jobs=None, normalize=False)"
            ]
          },
          "metadata": {},
          "execution_count": 86
        }
      ]
    },
    {
      "cell_type": "code",
      "metadata": {
        "colab": {
          "base_uri": "https://localhost:8080/"
        },
        "id": "JjVtA5GSdsBT",
        "outputId": "db51e514-11a3-4fd5-d1c4-a192ee990d92"
      },
      "source": [
        "print(\"Intercept: \", mlr.intercept_)\n",
        "print(\"Coefficients:\")\n",
        "list(zip(x, mlr.coef_))"
      ],
      "execution_count": null,
      "outputs": [
        {
          "output_type": "stream",
          "text": [
            "Intercept:  0.04533161922404361\n",
            "Coefficients:\n"
          ],
          "name": "stdout"
        },
        {
          "output_type": "execute_result",
          "data": {
            "text/plain": [
              "[('Open', -0.5264835242925838),\n",
              " ('High', 0.8235219665768152),\n",
              " ('Low', 0.7005336035877142),\n",
              " ('Volume', -4.4426488043924905e-09)]"
            ]
          },
          "metadata": {},
          "execution_count": 87
        }
      ]
    },
    {
      "cell_type": "code",
      "metadata": {
        "colab": {
          "base_uri": "https://localhost:8080/"
        },
        "id": "xeJb9YLEd2iz",
        "outputId": "5b4b2699-2540-4561-ff71-5521f93ab7c4"
      },
      "source": [
        "y_pred_mlr= mlr.predict(x_test)\n",
        "#Predicted values\n",
        "print(\"Prediction for test set:\\n {}\".format(y_pred_mlr))"
      ],
      "execution_count": null,
      "outputs": [
        {
          "output_type": "stream",
          "text": [
            "Prediction for test set:\n",
            " [166.76829555 336.22051102 429.71104316 181.99004904 370.39468323\n",
            " 373.77021051 163.39870434 424.32359772 108.06679763 515.53373481\n",
            " 182.16706164 315.89496109 548.0827757  334.15056725 107.0287835\n",
            " 272.10870066  86.16403728 458.79695254 268.40490619 427.36077615\n",
            "  74.46181907 444.96977465 296.5285962  419.82436631 122.59351571\n",
            " 333.26839643 267.02168827 422.27215171 204.64014102 504.89461607\n",
            " 401.25998501 334.00197861 467.11068207 235.61079165 471.22748606\n",
            " 158.66791964 157.60933703 343.53941226 376.50392034 198.21189213\n",
            " 180.4295463  344.51984863 342.79754048 172.68306386  81.78654199\n",
            " 543.9968041  190.02674273 450.97725506 484.11697146 162.25482136\n",
            " 147.71836757 124.61364456 483.20927723 171.56846678 500.58450645\n",
            " 134.55707999 106.87159851 296.15412659 169.70188867 180.55627413\n",
            " 176.4203801  131.69328215 174.98388709 146.89554376 192.00633023\n",
            " 159.63519641 470.79548231 417.8561504  342.27345898  84.41646956\n",
            " 509.02776718 269.2266023  169.58253238 176.31467424 347.69366416\n",
            " 257.31409344 322.19353751 470.86125632 375.38459252 468.92432227\n",
            " 181.10029328 322.34739138 198.02052328 476.02565278 268.05692785\n",
            " 163.00028825 173.94215986 177.81830755 445.59075859 308.58695181\n",
            " 161.72573289 362.001163   166.4385867  170.63571322 149.25517728\n",
            " 526.27843286 434.45820878 555.92981787 529.27695919 260.73956085\n",
            " 405.74298353 497.41878918 169.297206   463.75085685 130.85754164\n",
            "  82.2943943  274.12699027 118.69205448 562.36854583 120.40991255\n",
            " 175.48037147 124.07058626 277.2443498  384.84878052 277.13782101\n",
            " 179.99474073 152.83344116 333.924522   377.67568703 470.72682247\n",
            " 355.91409871 398.87543857 264.67906184 176.60485984 307.93281918\n",
            " 100.91083723 166.03732347 169.71789293 266.98251451 534.74015788\n",
            " 253.7975933  370.58992586 425.65064009 259.94505223 171.83318169\n",
            " 535.07421684 179.87757035 482.14947218 284.05523949 301.1688422\n",
            " 402.45971244 526.04451283 452.21058479 110.2981854  512.31087546\n",
            " 430.51149667 143.1376892  176.31866286 370.12073078 186.44172125\n",
            " 183.01871485 362.44875443 400.86880591 144.71159108 266.82102139\n",
            " 524.09376057 265.29603065 436.61499906 479.27045185 188.84618528\n",
            " 415.39223707 296.05435222 429.12002477 537.02075577 186.79626647\n",
            " 354.85233719 483.4514443  463.17684181 175.85893584 179.10731752\n",
            " 466.50527171 112.55944242 503.44112529 456.85780589 175.93482026\n",
            " 298.44385132 372.57624255 293.26664679 457.46525784  94.28649106\n",
            " 105.79084487 448.11212317 450.12485254 177.85790135 174.03075041\n",
            "  74.55387115 261.92133288 127.00673056 436.04936593 466.44299985\n",
            "  84.14438051 336.00078973 468.64065496 326.62366838 378.54431094\n",
            " 311.56639694 204.82025886 182.05353237 123.5341303  169.41480774\n",
            " 171.43734967 414.11566308 415.14277339 167.83067205 164.23087455\n",
            " 267.54488882 321.82483902 244.69081437 174.92822684 530.27928572\n",
            " 346.8671082  349.2693409  514.55257413 255.38679818 467.46287815\n",
            "  83.48635717 250.56504553 131.73381681 462.0919754  507.39265062\n",
            " 103.60465017 116.44114188 442.25922107 175.14146307 238.59091724\n",
            " 559.53392152 244.66620769 446.24976288 359.41491118 349.56978102\n",
            " 284.72471364 422.04279889 469.74472554 504.13380772 432.37275423\n",
            " 330.54759619 180.71266552 332.87868272 102.9965688  385.02260546\n",
            " 185.79782576 201.54817927 176.52395906 167.0385652  328.04891797\n",
            " 162.4313141  329.21394785 324.00390074 316.43996894 411.59120462\n",
            " 352.8103374  475.78538075 186.280044   130.85127073 123.16770444\n",
            " 469.52419571  83.94813178 500.5393317  180.0598385  146.27897976\n",
            " 294.8093234  302.93834974 182.14807569 426.48883362  77.14940507\n",
            " 262.42138716 550.48810845 104.1902957  349.48906642 406.4314698\n",
            "  95.07033986  78.01913565 138.3436426  461.81999206 303.11658597\n",
            " 272.65337847 562.59697516 166.13053741  85.17833792  98.65832617\n",
            " 142.17544061 289.52906879 193.61932301 444.56496238 316.69952783\n",
            " 166.80856217 478.48645276 305.45886828 262.95956073 472.72126732\n",
            "  73.8887345  193.44174761 553.49423369 521.94375495 434.59261314\n",
            " 101.19919649 130.54068306 172.12953786 471.81987255 181.39282425\n",
            " 543.91379638 521.45528113 122.65560728  75.20264734 187.86102791\n",
            " 139.33962477 180.51819307 418.18082023 461.33971014 351.39471739\n",
            " 156.72528908 440.85552752 348.16059101 456.01500154 213.51030717\n",
            "  88.16105812  83.57250974 182.75123197 334.98332106 469.2141454\n",
            " 172.27151406 436.18347284 139.71641642 317.85851505 463.14001204\n",
            " 433.40126669 423.82357055 185.73930927 119.79889923 123.1215715\n",
            " 525.89736807 182.8615913  405.08187562 144.53977061 171.58840826\n",
            " 120.48362582 171.22179096 295.95571844 243.33048197 508.51319904\n",
            " 292.42884681 292.55340486 552.05392832 115.77423638 403.08945716\n",
            " 180.77349008 453.22086715 197.46145997 123.05371186 103.35299042\n",
            " 388.00013026 195.76635623 454.39520015 116.94594668 325.19455523\n",
            " 159.26727787 130.48986369 385.80874037 108.32125663 171.0041593\n",
            " 108.31741287 121.06780491 314.80267383 199.18171933 316.79166933\n",
            " 437.6403922  175.23471867 462.01986786]\n"
          ],
          "name": "stdout"
        }
      ]
    },
    {
      "cell_type": "code",
      "metadata": {
        "colab": {
          "base_uri": "https://localhost:8080/",
          "height": 203
        },
        "id": "vCAnonTVd63I",
        "outputId": "aa581f30-d54b-43d0-dd2a-736b991ec79a"
      },
      "source": [
        "mlr_diff = pd.DataFrame({ 'Close': y_test, 'Predicted Close': y_pred_mlr})\n",
        "mlr_diff.head()"
      ],
      "execution_count": null,
      "outputs": [
        {
          "output_type": "execute_result",
          "data": {
            "text/html": [
              "<div>\n",
              "<style scoped>\n",
              "    .dataframe tbody tr th:only-of-type {\n",
              "        vertical-align: middle;\n",
              "    }\n",
              "\n",
              "    .dataframe tbody tr th {\n",
              "        vertical-align: top;\n",
              "    }\n",
              "\n",
              "    .dataframe thead th {\n",
              "        text-align: right;\n",
              "    }\n",
              "</style>\n",
              "<table border=\"1\" class=\"dataframe\">\n",
              "  <thead>\n",
              "    <tr style=\"text-align: right;\">\n",
              "      <th></th>\n",
              "      <th>Close</th>\n",
              "      <th>Predicted Close</th>\n",
              "    </tr>\n",
              "  </thead>\n",
              "  <tbody>\n",
              "    <tr>\n",
              "      <th>596</th>\n",
              "      <td>166.949997</td>\n",
              "      <td>166.768296</td>\n",
              "    </tr>\n",
              "    <tr>\n",
              "      <th>432</th>\n",
              "      <td>336.450012</td>\n",
              "      <td>336.220511</td>\n",
              "    </tr>\n",
              "    <tr>\n",
              "      <th>318</th>\n",
              "      <td>428.399994</td>\n",
              "      <td>429.711043</td>\n",
              "    </tr>\n",
              "    <tr>\n",
              "      <th>629</th>\n",
              "      <td>181.199997</td>\n",
              "      <td>181.990049</td>\n",
              "    </tr>\n",
              "    <tr>\n",
              "      <th>389</th>\n",
              "      <td>368.750000</td>\n",
              "      <td>370.394683</td>\n",
              "    </tr>\n",
              "  </tbody>\n",
              "</table>\n",
              "</div>"
            ],
            "text/plain": [
              "          Close  Predicted Close\n",
              "596  166.949997       166.768296\n",
              "432  336.450012       336.220511\n",
              "318  428.399994       429.711043\n",
              "629  181.199997       181.990049\n",
              "389  368.750000       370.394683"
            ]
          },
          "metadata": {},
          "execution_count": 102
        }
      ]
    },
    {
      "cell_type": "code",
      "metadata": {
        "colab": {
          "base_uri": "https://localhost:8080/"
        },
        "id": "njEj71hThrU7",
        "outputId": "8d98182b-c545-4ec4-b268-e7ff6cf4e1d5"
      },
      "source": [
        "New_Open = 369.899994\n",
        "New_High = 373.200012\n",
        "New_Low = 368\n",
        "#Close = 368.75\n",
        "New_Volume = 8816777\n",
        "print ('Predicted Close: \\n', mlr.predict([[New_Open ,New_High, New_Low, New_Volume]]))"
      ],
      "execution_count": null,
      "outputs": [
        {
          "output_type": "stream",
          "text": [
            "Predicted Close: \n",
            " [370.39468323]\n"
          ],
          "name": "stdout"
        }
      ]
    },
    {
      "cell_type": "code",
      "metadata": {
        "colab": {
          "base_uri": "https://localhost:8080/"
        },
        "id": "wfQncnO0eaVO",
        "outputId": "24f21876-1d14-434a-cc14-4d439b4a2de6"
      },
      "source": [
        "from sklearn import metrics\n",
        "meanAbErr = metrics.mean_absolute_error(y_test, y_pred_mlr)\n",
        "meanSqErr = metrics.mean_squared_error(y_test, y_pred_mlr)\n",
        "rootMeanSqErr = np.sqrt(metrics.mean_squared_error(y_test, y_pred_mlr))\n",
        "print('R squared: {:.2f}'.format(mlr.score(x,y)*100))\n",
        "print('Mean Absolute Error:', meanAbErr)\n",
        "print('Mean Square Error:', meanSqErr)\n",
        "print('Root Mean Square Error:', rootMeanSqErr)"
      ],
      "execution_count": null,
      "outputs": [
        {
          "output_type": "stream",
          "text": [
            "R squared: 99.98\n",
            "Mean Absolute Error: 1.6266835296560462\n",
            "Mean Square Error: 4.49932619161403\n",
            "Root Mean Square Error: 2.121161519454384\n"
          ],
          "name": "stdout"
        }
      ]
    }
  ]
}